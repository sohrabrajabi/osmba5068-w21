{
 "cells": [
  {
   "cell_type": "markdown",
   "metadata": {},
   "source": [
    "#### Water Jug Problem\n",
    "\n",
    "The \"water jug\" problem can be stated as follows:  \n",
    "* you have a jug with a capacity of 7 liters of water, and a jug with a capacity of 3 liters of water, \n",
    "* you have a water source that will fill either jug to capacity\n",
    "* you have a drain that can be used to empty either jug  \n",
    "\n",
    "The available actions are\n",
    "* fill either jug from the water source\n",
    "* empty either jug into the drain\n",
    "* pour some water from a source jug into a destination jug.  The amount actually poured depends on the water level of the source jug and the capacity of the destination jug.   For example\n",
    "  * if you tried to pour the 3-capacity jug containing 2 liters into the 7-capacity jug containing 6 liters, the 3-capacity jug would contain 1 and the 7-capacity jug would contain 7\n",
    "  * if you tried to pour the 7-capacity jug containing 3 liters into the 3-capacity jug containing 0 liters, the 3-capacity jug would contain 3 liters and the 7-capacity jug would contain 0 liters\n",
    "  \n",
    "It costs 5 to fill either jug regardless of how much water is required.  It costs 3 to empty either jug regardless of how much water is emptied.  It costs 1 to transfer water from one jug to another, regardless of how much water is transferred.\n",
    "\n",
    "A *problem* consists of \n",
    "* Initial -- the initial contents of both jugs\n",
    "* Goal -- a desired fill level for each jug\n",
    "\n",
    "So for example, a problem is to find the lowest cost sequence of actions that starts with both jugs empty and results in 0 liters in the 3-liter jug and 3 liters in the 5-liter jug"
   ]
  },
  {
   "cell_type": "code",
   "execution_count": null,
   "metadata": {},
   "outputs": [],
   "source": [
    "## First define your world state\n",
    "##  You should represent your actions as follows:\n",
    "##     (\"fill\", \"3cap\" ) and (\"fill\", \"7cap\")\n",
    "##     (\"empty\" \"3cap\") and (\"empty\", \"7cap\")\n",
    "##     (\"pour\", \"3cap\", <amount>) and (\"pour\", \"7cap\", <amount)  -- where for example\n",
    "##        (\"pour\", \"3cap\")   means \"Pour from the 3cap jug to the 7cap jug\"\n",
    "##              The rules above determine how much water is actually poured\n",
    "\n",
    "from searchClientInterface import WorldState\n",
    "import copy\n",
    "\n",
    "class JugWorldState(WorldState):\n",
    "    ## Your code here\n",
    "    "
   ]
  },
  {
   "cell_type": "code",
   "execution_count": null,
   "metadata": {},
   "outputs": [],
   "source": [
    "from searchClientInterface import Problem\n",
    "\n",
    "class JugProblem(Problem):\n",
    "    # Create a world state from the capacities and the initials\n",
    "    # Store off the goal levels for the goal checker\n",
    "    \n",
    "    def __init__(self, capacities, initials, goals):\n",
    "         # Your code here\n",
    "    \n",
    "    # Returns a JugWorldState\n",
    "    def initial(self):\n",
    "        # Your code here\n",
    "    \n",
    "    # Checks the input state against the goals to see if they are equal\n",
    "    def isGoal(self, state):\n",
    "        # Your code here"
   ]
  },
  {
   "cell_type": "code",
   "execution_count": null,
   "metadata": {},
   "outputs": [],
   "source": [
    "from searchClientInterface import BFSEvaluator, DFSEvaluator\n",
    "from searchFramework import aStarSearch\n",
    "\n",
    "# In this cell test your code on a problem where \n",
    "#    capacities of the jugs are 3 and 7\n",
    "#    initial fill levels are both 0\n",
    "#    goal fill levels are 0 and 5\n",
    "\n",
    "#  Print the output of both searches\n"
   ]
  },
  {
   "cell_type": "markdown",
   "metadata": {},
   "source": [
    "Answer these questions (for this problem only):\n",
    "* Did DFS return the shortest plan?\n",
    "* In terms of Nodes explored, which method worked better?"
   ]
  },
  {
   "cell_type": "markdown",
   "metadata": {},
   "source": [
    "<p style=\"color:red\">Put your answers in this markdown cell</p>"
   ]
  },
  {
   "cell_type": "code",
   "execution_count": null,
   "metadata": {},
   "outputs": [],
   "source": [
    "# Now we move to A Star search.\n",
    "# Implement a cost function on the actions, and a heuristic evaluation function on the states\n",
    "\n",
    "def coster(actions):\n",
    "    ## Your code here\n",
    "\n",
    "# Your heuristic evaluation function needs to know about the goal!\n",
    "goal = [0,5]\n",
    "def estimator(state):\n",
    "    ## Your code here"
   ]
  },
  {
   "cell_type": "code",
   "execution_count": null,
   "metadata": {},
   "outputs": [],
   "source": [
    "# Now run A Star search on this same problem.\n",
    "# Print the results of running BFS, DFS, and AStar on the same problem\n",
    "\n",
    "from searchClientInterface import Evaluator\n",
    "goal = # Your code here\n",
    "problem1 = # Your code here\n",
    "\n",
    "print(aStarSearch(problem1, BFSEvaluator(), None, 1000))\n",
    "print(aStarSearch(problem1, DFSEvaluator(), None, 1000))\n",
    "print(aStarSearch(problem1, Evaluator(coster, estimator), None, 1000))"
   ]
  },
  {
   "cell_type": "markdown",
   "metadata": {},
   "source": [
    "Use this output and any additional calculation to answer these questions\n",
    "* Is your astar search guaranteed to return the shortest plan?  Why or why not?\n",
    "* Is your astar search guaranteed to return the cheapest plan/  Why or why not?\n",
    "* Did you breadth-first search return the chapest plan?\n",
    "* In terms of nodes explored, did astar search improve search performance on this example?"
   ]
  },
  {
   "cell_type": "markdown",
   "metadata": {},
   "source": [
    "<p style=\"color:red\">Your answers in this cell</p>"
   ]
  },
  {
   "cell_type": "markdown",
   "metadata": {},
   "source": [
    "### More Analysis\n",
    "\n",
    "Considering just these jug capacities (3 and 7), there are only 1024 possible problems (32 possible input states, and 32 possible goal states).\n",
    "So you can do some analysis over all 1024 problems.\n",
    "\n",
    "Write the code and do an analysis that answers these questions:\n",
    "* Are some of the problems simply unsolvable?  (That is, there is no way to get from initial to goal.)  What percentage?\n",
    "* Of the solvable problems, are there some the DFS does not solve (use an iteration limit of 5000)\n",
    "* Averaged over all problems\n",
    "  * What percentage of the time did A Star search produce a cheaper plan than BFS.  Than DFS?\n",
    "  * Did the heuristic guidance provided in A Star search result in a signficantly more efficient search when measured in terms of number of nodes expanded?  \n",
    "  * Now compare DFS to A Star search.   Did DFS on average (a) work faster than AStar, but did it produce worse plans either in terms of plan length or plan cost"
   ]
  },
  {
   "cell_type": "markdown",
   "metadata": {},
   "source": [
    "<p style=\"color:red\">In this markdown cell, put text that answers all of the questions above</p>"
   ]
  },
  {
   "cell_type": "markdown",
   "metadata": {},
   "source": [
    "<p style=\"color:red\">Although I will not run the code your ran to do your analysis, please leave the code in the notebook, in one or more code cells below this cell.</p>"
   ]
  }
 ],
 "metadata": {
  "kernelspec": {
   "display_name": "Python 3",
   "language": "python",
   "name": "python3"
  },
  "language_info": {
   "codemirror_mode": {
    "name": "ipython",
    "version": 3
   },
   "file_extension": ".py",
   "mimetype": "text/x-python",
   "name": "python",
   "nbconvert_exporter": "python",
   "pygments_lexer": "ipython3",
   "version": "3.7.0"
  }
 },
 "nbformat": 4,
 "nbformat_minor": 2
}
